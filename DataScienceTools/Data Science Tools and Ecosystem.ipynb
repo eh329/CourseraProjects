{
 "cells": [
  {
   "cell_type": "markdown",
   "metadata": {},
   "source": [
    "<center>\n",
    "    <img src=\"https://cf-courses-data.s3.us.cloud-object-storage.appdomain.cloud/IBMDeveloperSkillsNetwork-DS0105EN-SkillsNetwork/labs/Module2/images/SN_web_lightmode.png\" width=\"300\" alt=\"cognitiveclass.ai logo\">\n",
    "</center>\n"
   ]
  },
  {
   "cell_type": "markdown",
   "metadata": {},
   "source": [
    "## Data Science Tools and Ecosystem"
   ]
  },
  {
   "cell_type": "markdown",
   "metadata": {},
   "source": [
    "### Introduction\n",
    "\n",
    "In this notebook, I try to answer all the questions in the peer-graded assignment."
   ]
  },
  {
   "cell_type": "markdown",
   "metadata": {},
   "source": [
    "### Data Science Languages \n",
    "\n",
    "+ Python\n",
    "+ R\n",
    "+ SQL\n",
    "+ Julia\n",
    "+ Scala"
   ]
  },
  {
   "cell_type": "markdown",
   "metadata": {},
   "source": [
    "### Data Science Libraries\n",
    "\n",
    "+ Pandas\n",
    "+ Numpy\n",
    "+ Matplotlib\n",
    "+ Scikit-learn"
   ]
  },
  {
   "cell_type": "markdown",
   "metadata": {},
   "source": [
    "### Data Science Tools\n",
    "\n",
    "| Tool     | Purpose  | \n",
    "|----------|----------|\n",
    "| Jupyter Notebook  | Interactive notebooks     | \n",
    "| Rstudio  | R development    | \n",
    "| Google Colab   | Interactive notebooks     | "
   ]
  },
  {
   "cell_type": "markdown",
   "metadata": {},
   "source": [
    "### Arithmetic Expression Examples\n",
    "\n",
    "Addition <br>\n",
    "Formula: $a + b = c$ ---\n",
    "Example: $15 + 28 = 43$ <br>\n",
    "Subtraction <br>\n",
    "Formula: $a - b = c$ ---\n",
    "Example: $50 - 23 = 27$ <br>\n",
    "Multiplication <br>\n",
    "Formula: $a \\times b = c$ or $a \\cdot b = c$ ---\n",
    "Example: $12 \\times 7 = 84$ <br>\n",
    "Division <br>\n",
    "Formula: $\\frac{a}{b} = c$ or $a \\div b = c$ ---\n",
    "Example: $\\frac{96}{8} = 12$"
   ]
  },
  {
   "cell_type": "code",
   "execution_count": null,
   "metadata": {},
   "outputs": [],
   "source": [
    "# Evaluating Basic Arithmetics\n",
    "\n",
    "(1 + 2) * 3"
   ]
  },
  {
   "cell_type": "code",
   "execution_count": null,
   "metadata": {},
   "outputs": [],
   "source": [
    "# convert minutes to hours\n",
    "\n",
    "def hour_min(num):abs\n",
    "    return round(num / 60, 2)"
   ]
  },
  {
   "cell_type": "markdown",
   "metadata": {},
   "source": [
    "### Objectives\n",
    "\n",
    "+ List popular Data Science languages.\n",
    "+ List key data science libraries and tools.\n",
    "+ Demonstrate basic arithmetic operations in Python.\n",
    "+ Share the notebook via GitHub."
   ]
  },
  {
   "cell_type": "markdown",
   "metadata": {},
   "source": [
    "### Author\n",
    "\n",
    "Erfan Hosseinian Rad"
   ]
  }
 ],
 "metadata": {
  "kernelspec": {
   "display_name": "Python 3 (ipykernel)",
   "language": "python",
   "name": "python3"
  },
  "language_info": {
   "codemirror_mode": {
    "name": "ipython",
    "version": 3
   },
   "file_extension": ".py",
   "mimetype": "text/x-python",
   "name": "python",
   "nbconvert_exporter": "python",
   "pygments_lexer": "ipython3",
   "version": "3.12.8"
  }
 },
 "nbformat": 4,
 "nbformat_minor": 4
}
